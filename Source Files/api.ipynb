{
 "cells": [
  {
   "cell_type": "code",
   "execution_count": null,
   "metadata": {},
   "outputs": [
    {
     "name": "stdout",
     "output_type": "stream",
     "text": [
      "Serving on http://DESKTOP-90G6FV6:5000\n"
     ]
    }
   ],
   "source": [
    "from flask import Flask\n",
    "from waitress import serve\n",
    "from flask import request\n",
    "import json\n",
    "\n",
    "app = Flask(__name__)\n",
    "\n",
    "@app.route(\"/predict_price\", methods=['POST'])\n",
    "def predict_house():\n",
    "    json = request.get_json()\n",
    "    # expect X in format [[1, 2, 4, 5]]\n",
    "    X = json[\"X\"]\n",
    "    model = joblib.load(\"model.pkl\")\n",
    "    return str(model.predict(X))\n",
    "\t\n",
    "# This is important so that the server will run when the docker container has been started. \n",
    "# Host=0.0.0.0 needs to be provided to make the server publicly available.\n",
    "if __name__ == \"__main__\":\n",
    "    serve(app,host='0.0.0.0', port=5000)"
   ]
  },
  {
   "cell_type": "code",
   "execution_count": null,
   "metadata": {},
   "outputs": [],
   "source": []
  },
  {
   "cell_type": "code",
   "execution_count": null,
   "metadata": {},
   "outputs": [],
   "source": []
  }
 ],
 "metadata": {
  "kernelspec": {
   "display_name": "Python 3",
   "language": "python",
   "name": "python3"
  },
  "language_info": {
   "codemirror_mode": {
    "name": "ipython",
    "version": 3
   },
   "file_extension": ".py",
   "mimetype": "text/x-python",
   "name": "python",
   "nbconvert_exporter": "python",
   "pygments_lexer": "ipython3",
   "version": "3.7.0"
  }
 },
 "nbformat": 4,
 "nbformat_minor": 2
}
